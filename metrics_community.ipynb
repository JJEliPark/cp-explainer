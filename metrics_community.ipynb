{
 "cells": [
  {
   "cell_type": "code",
   "execution_count": 8,
   "metadata": {},
   "outputs": [
    {
     "name": "stdout",
     "output_type": "stream",
     "text": [
      "Modularity: 0.41096493693896297\n",
      "NMI: 0.5646068790944767\n",
      "ARI: 0.5684394071490846\n",
      "Coverage: 0.7564102564102564\n",
      "Conductance: [0.1282051282051282, 0.38095238095238093, 0.3333333333333333]\n"
     ]
    }
   ],
   "source": [
    "import networkx as nx\n",
    "from networkx.algorithms.community import greedy_modularity_communities, modularity\n",
    "\n",
    "\n",
    "\n",
    "def calculate_modularity(G, communities) :\n",
    "    mod_value = modularity(G, communities)\n",
    "    return mod_value\n",
    "\n",
    "\n",
    "def calculate_coverage(G, communities):\n",
    "    intra_edges = 0\n",
    "    total_edges = len(G.edges())\n",
    "    for community in communities:\n",
    "        subgraph = G.subgraph(community)\n",
    "        intra_edges += len(subgraph.edges())\n",
    "    return intra_edges / total_edges\n",
    "\n",
    "\n",
    "\n",
    "# Conductance 계산\n",
    "def calculate_conductance(G, community):\n",
    "    cut_size = len(list(nx.edge_boundary(G, community)))\n",
    "    volume = sum([G.degree(n) for n in community])\n",
    "    return cut_size / min(volume, 2 * len(G.edges()) - volume)\n"
   ]
  },
  {
   "cell_type": "code",
   "execution_count": null,
   "metadata": {},
   "outputs": [],
   "source": []
  }
 ],
 "metadata": {
  "kernelspec": {
   "display_name": "base",
   "language": "python",
   "name": "python3"
  },
  "language_info": {
   "codemirror_mode": {
    "name": "ipython",
    "version": 3
   },
   "file_extension": ".py",
   "mimetype": "text/x-python",
   "name": "python",
   "nbconvert_exporter": "python",
   "pygments_lexer": "ipython3",
   "version": "3.11.5"
  }
 },
 "nbformat": 4,
 "nbformat_minor": 2
}
